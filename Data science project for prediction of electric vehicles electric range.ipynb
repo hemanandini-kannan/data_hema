{
 "cells": [
  {
   "cell_type": "code",
   "execution_count": 3,
   "id": "e425582a",
   "metadata": {},
   "outputs": [],
   "source": [
    "import numpy as np\n",
    "import pandas as pd\n",
    "import matplotlib.pyplot as plt\n",
    "import seaborn as sns\n",
    "from sklearn.model_selection import train_test_split\n",
    "from sklearn.ensemble import RandomForestRegressor\n",
    "from sklearn.linear_model import Lasso\n",
    "from sklearn import metrics\n",
    "from sklearn.preprocessing import LabelEncoder\n",
    "from sklearn.datasets import load_iris"
   ]
  },
  {
   "cell_type": "code",
   "execution_count": 4,
   "id": "1d7c8914",
   "metadata": {},
   "outputs": [],
   "source": [
    "data = pd.read_csv('Electric_Vehicle_Population_Data.csv')"
   ]
  },
  {
   "cell_type": "code",
   "execution_count": 5,
   "id": "aa4a77b3",
   "metadata": {},
   "outputs": [
    {
     "data": {
      "text/html": [
       "<div>\n",
       "<style scoped>\n",
       "    .dataframe tbody tr th:only-of-type {\n",
       "        vertical-align: middle;\n",
       "    }\n",
       "\n",
       "    .dataframe tbody tr th {\n",
       "        vertical-align: top;\n",
       "    }\n",
       "\n",
       "    .dataframe thead th {\n",
       "        text-align: right;\n",
       "    }\n",
       "</style>\n",
       "<table border=\"1\" class=\"dataframe\">\n",
       "  <thead>\n",
       "    <tr style=\"text-align: right;\">\n",
       "      <th></th>\n",
       "      <th>VIN (1-10)</th>\n",
       "      <th>County</th>\n",
       "      <th>City</th>\n",
       "      <th>State</th>\n",
       "      <th>Postal Code</th>\n",
       "      <th>Model Year</th>\n",
       "      <th>Make</th>\n",
       "      <th>Model</th>\n",
       "      <th>Electric Vehicle Type</th>\n",
       "      <th>Clean Alternative Fuel Vehicle (CAFV) Eligibility</th>\n",
       "      <th>Electric Range</th>\n",
       "      <th>Base MSRP</th>\n",
       "      <th>Legislative District</th>\n",
       "      <th>DOL Vehicle ID</th>\n",
       "      <th>Vehicle Location</th>\n",
       "      <th>Electric Utility</th>\n",
       "      <th>2020 Census Tract</th>\n",
       "    </tr>\n",
       "  </thead>\n",
       "  <tbody>\n",
       "    <tr>\n",
       "      <th>0</th>\n",
       "      <td>5YJ3E1EB4L</td>\n",
       "      <td>Yakima</td>\n",
       "      <td>Yakima</td>\n",
       "      <td>WA</td>\n",
       "      <td>98908.0</td>\n",
       "      <td>2020</td>\n",
       "      <td>TESLA</td>\n",
       "      <td>MODEL 3</td>\n",
       "      <td>Battery Electric Vehicle (BEV)</td>\n",
       "      <td>Clean Alternative Fuel Vehicle Eligible</td>\n",
       "      <td>322</td>\n",
       "      <td>0</td>\n",
       "      <td>14.0</td>\n",
       "      <td>127175366</td>\n",
       "      <td>POINT (-120.56916 46.58514)</td>\n",
       "      <td>PACIFICORP</td>\n",
       "      <td>5.307700e+10</td>\n",
       "    </tr>\n",
       "    <tr>\n",
       "      <th>1</th>\n",
       "      <td>5YJ3E1EA7K</td>\n",
       "      <td>San Diego</td>\n",
       "      <td>San Diego</td>\n",
       "      <td>CA</td>\n",
       "      <td>92101.0</td>\n",
       "      <td>2019</td>\n",
       "      <td>TESLA</td>\n",
       "      <td>MODEL 3</td>\n",
       "      <td>Battery Electric Vehicle (BEV)</td>\n",
       "      <td>Clean Alternative Fuel Vehicle Eligible</td>\n",
       "      <td>220</td>\n",
       "      <td>0</td>\n",
       "      <td>NaN</td>\n",
       "      <td>266614659</td>\n",
       "      <td>POINT (-117.16171 32.71568)</td>\n",
       "      <td>NaN</td>\n",
       "      <td>6.073005e+09</td>\n",
       "    </tr>\n",
       "    <tr>\n",
       "      <th>2</th>\n",
       "      <td>7JRBR0FL9M</td>\n",
       "      <td>Lane</td>\n",
       "      <td>Eugene</td>\n",
       "      <td>OR</td>\n",
       "      <td>97404.0</td>\n",
       "      <td>2021</td>\n",
       "      <td>VOLVO</td>\n",
       "      <td>S60</td>\n",
       "      <td>Plug-in Hybrid Electric Vehicle (PHEV)</td>\n",
       "      <td>Not eligible due to low battery range</td>\n",
       "      <td>22</td>\n",
       "      <td>0</td>\n",
       "      <td>NaN</td>\n",
       "      <td>144502018</td>\n",
       "      <td>POINT (-123.12802 44.09573)</td>\n",
       "      <td>NaN</td>\n",
       "      <td>4.103900e+10</td>\n",
       "    </tr>\n",
       "    <tr>\n",
       "      <th>3</th>\n",
       "      <td>5YJXCBE21K</td>\n",
       "      <td>Yakima</td>\n",
       "      <td>Yakima</td>\n",
       "      <td>WA</td>\n",
       "      <td>98908.0</td>\n",
       "      <td>2019</td>\n",
       "      <td>TESLA</td>\n",
       "      <td>MODEL X</td>\n",
       "      <td>Battery Electric Vehicle (BEV)</td>\n",
       "      <td>Clean Alternative Fuel Vehicle Eligible</td>\n",
       "      <td>289</td>\n",
       "      <td>0</td>\n",
       "      <td>14.0</td>\n",
       "      <td>477039944</td>\n",
       "      <td>POINT (-120.56916 46.58514)</td>\n",
       "      <td>PACIFICORP</td>\n",
       "      <td>5.307700e+10</td>\n",
       "    </tr>\n",
       "    <tr>\n",
       "      <th>4</th>\n",
       "      <td>5UXKT0C5XH</td>\n",
       "      <td>Snohomish</td>\n",
       "      <td>Bothell</td>\n",
       "      <td>WA</td>\n",
       "      <td>98021.0</td>\n",
       "      <td>2017</td>\n",
       "      <td>BMW</td>\n",
       "      <td>X5</td>\n",
       "      <td>Plug-in Hybrid Electric Vehicle (PHEV)</td>\n",
       "      <td>Not eligible due to low battery range</td>\n",
       "      <td>14</td>\n",
       "      <td>0</td>\n",
       "      <td>1.0</td>\n",
       "      <td>106314946</td>\n",
       "      <td>POINT (-122.18384 47.8031)</td>\n",
       "      <td>PUGET SOUND ENERGY INC</td>\n",
       "      <td>5.306105e+10</td>\n",
       "    </tr>\n",
       "  </tbody>\n",
       "</table>\n",
       "</div>"
      ],
      "text/plain": [
       "   VIN (1-10)     County       City State  Postal Code  Model Year   Make  \\\n",
       "0  5YJ3E1EB4L     Yakima     Yakima    WA      98908.0        2020  TESLA   \n",
       "1  5YJ3E1EA7K  San Diego  San Diego    CA      92101.0        2019  TESLA   \n",
       "2  7JRBR0FL9M       Lane     Eugene    OR      97404.0        2021  VOLVO   \n",
       "3  5YJXCBE21K     Yakima     Yakima    WA      98908.0        2019  TESLA   \n",
       "4  5UXKT0C5XH  Snohomish    Bothell    WA      98021.0        2017    BMW   \n",
       "\n",
       "     Model                   Electric Vehicle Type  \\\n",
       "0  MODEL 3          Battery Electric Vehicle (BEV)   \n",
       "1  MODEL 3          Battery Electric Vehicle (BEV)   \n",
       "2      S60  Plug-in Hybrid Electric Vehicle (PHEV)   \n",
       "3  MODEL X          Battery Electric Vehicle (BEV)   \n",
       "4       X5  Plug-in Hybrid Electric Vehicle (PHEV)   \n",
       "\n",
       "  Clean Alternative Fuel Vehicle (CAFV) Eligibility  Electric Range  \\\n",
       "0           Clean Alternative Fuel Vehicle Eligible             322   \n",
       "1           Clean Alternative Fuel Vehicle Eligible             220   \n",
       "2             Not eligible due to low battery range              22   \n",
       "3           Clean Alternative Fuel Vehicle Eligible             289   \n",
       "4             Not eligible due to low battery range              14   \n",
       "\n",
       "   Base MSRP  Legislative District  DOL Vehicle ID  \\\n",
       "0          0                  14.0       127175366   \n",
       "1          0                   NaN       266614659   \n",
       "2          0                   NaN       144502018   \n",
       "3          0                  14.0       477039944   \n",
       "4          0                   1.0       106314946   \n",
       "\n",
       "              Vehicle Location        Electric Utility  2020 Census Tract  \n",
       "0  POINT (-120.56916 46.58514)              PACIFICORP       5.307700e+10  \n",
       "1  POINT (-117.16171 32.71568)                     NaN       6.073005e+09  \n",
       "2  POINT (-123.12802 44.09573)                     NaN       4.103900e+10  \n",
       "3  POINT (-120.56916 46.58514)              PACIFICORP       5.307700e+10  \n",
       "4   POINT (-122.18384 47.8031)  PUGET SOUND ENERGY INC       5.306105e+10  "
      ]
     },
     "execution_count": 5,
     "metadata": {},
     "output_type": "execute_result"
    }
   ],
   "source": [
    "data.head()"
   ]
  },
  {
   "cell_type": "code",
   "execution_count": 6,
   "id": "b11fb3dd",
   "metadata": {},
   "outputs": [
    {
     "data": {
      "text/plain": [
       "VIN (1-10)                                             0\n",
       "County                                                 2\n",
       "City                                                   2\n",
       "State                                                  0\n",
       "Postal Code                                            2\n",
       "Model Year                                             0\n",
       "Make                                                   0\n",
       "Model                                                181\n",
       "Electric Vehicle Type                                  0\n",
       "Clean Alternative Fuel Vehicle (CAFV) Eligibility      0\n",
       "Electric Range                                         0\n",
       "Base MSRP                                              0\n",
       "Legislative District                                 297\n",
       "DOL Vehicle ID                                         0\n",
       "Vehicle Location                                      29\n",
       "Electric Utility                                     473\n",
       "2020 Census Tract                                      2\n",
       "dtype: int64"
      ]
     },
     "execution_count": 6,
     "metadata": {},
     "output_type": "execute_result"
    }
   ],
   "source": [
    "data.isnull().sum()"
   ]
  },
  {
   "cell_type": "code",
   "execution_count": 7,
   "id": "2af30066",
   "metadata": {},
   "outputs": [
    {
     "name": "stderr",
     "output_type": "stream",
     "text": [
      "C:\\ProgramData\\Anaconda3\\lib\\site-packages\\seaborn\\distributions.py:2619: FutureWarning: `distplot` is a deprecated function and will be removed in a future version. Please adapt your code to use either `displot` (a figure-level function with similar flexibility) or `histplot` (an axes-level function for histograms).\n",
      "  warnings.warn(msg, FutureWarning)\n"
     ]
    },
    {
     "data": {
      "text/plain": [
       "<AxesSubplot:xlabel='Legislative District', ylabel='Density'>"
      ]
     },
     "execution_count": 7,
     "metadata": {},
     "output_type": "execute_result"
    },
    {
     "data": {
      "image/png": "[encoded data removed]",
      "text/plain": [
       "<Figure size 576x576 with 1 Axes>"
      ]
     },
     "metadata": {
      "needs_background": "light"
     },
     "output_type": "display_data"
    }
   ],
   "source": [
    "#central tendencies\n",
    "fig, ax = plt.subplots(figsize=(8,8))\n",
    "sns.distplot(data['Legislative District'])"
   ]
  },
  {
   "cell_type": "code",
   "execution_count": 8,
   "id": "bc739973",
   "metadata": {},
   "outputs": [],
   "source": [
    "data['Legislative District'].fillna(data['Legislative District'].median(),inplace=True)"
   ]
  },
  {
   "cell_type": "code",
   "execution_count": 9,
   "id": "738115ea",
   "metadata": {},
   "outputs": [
    {
     "data": {
      "text/plain": [
       "VIN (1-10)                                             0\n",
       "County                                                 2\n",
       "City                                                   2\n",
       "State                                                  0\n",
       "Postal Code                                            2\n",
       "Model Year                                             0\n",
       "Make                                                   0\n",
       "Model                                                181\n",
       "Electric Vehicle Type                                  0\n",
       "Clean Alternative Fuel Vehicle (CAFV) Eligibility      0\n",
       "Electric Range                                         0\n",
       "Base MSRP                                              0\n",
       "Legislative District                                   0\n",
       "DOL Vehicle ID                                         0\n",
       "Vehicle Location                                      29\n",
       "Electric Utility                                     473\n",
       "2020 Census Tract                                      2\n",
       "dtype: int64"
      ]
     },
     "execution_count": 9,
     "metadata": {},
     "output_type": "execute_result"
    }
   ],
   "source": [
    "data.isnull().sum()"
   ]
  },
  {
   "cell_type": "code",
   "execution_count": 10,
   "id": "e60f9de2",
   "metadata": {},
   "outputs": [],
   "source": [
    "correlation = data.corr()"
   ]
  },
  {
   "cell_type": "code",
   "execution_count": 11,
   "id": "ec9c6429",
   "metadata": {},
   "outputs": [
    {
     "data": {
      "text/plain": [
       "<AxesSubplot:>"
      ]
     },
     "execution_count": 11,
     "metadata": {},
     "output_type": "execute_result"
    },
    {
     "data": {
      "image/png": "[encoded data removed]",
      "text/plain": [
       "<Figure size 720x720 with 2 Axes>"
      ]
     },
     "metadata": {
      "needs_background": "light"
     },
     "output_type": "display_data"
    }
   ],
   "source": [
    "#heatmap\n",
    "plt.figure(figsize=(10,10))\n",
    "sns.heatmap(correlation, cbar=True, square=True, fmt='.1f', annot=True, annot_kws={'size':8}, cmap='Greens')"
   ]
  },
  {
   "cell_type": "code",
   "execution_count": 12,
   "id": "06d62494",
   "metadata": {},
   "outputs": [
    {
     "data": {
      "text/plain": [
       "(124716, 17)"
      ]
     },
     "execution_count": 12,
     "metadata": {},
     "output_type": "execute_result"
    }
   ],
   "source": [
    "data.shape"
   ]
  },
  {
   "cell_type": "code",
   "execution_count": 13,
   "id": "c5b3f8e8",
   "metadata": {},
   "outputs": [
    {
     "name": "stderr",
     "output_type": "stream",
     "text": [
      "C:\\ProgramData\\Anaconda3\\lib\\site-packages\\seaborn\\distributions.py:2619: FutureWarning: `distplot` is a deprecated function and will be removed in a future version. Please adapt your code to use either `displot` (a figure-level function with similar flexibility) or `histplot` (an axes-level function for histograms).\n",
      "  warnings.warn(msg, FutureWarning)\n"
     ]
    },
    {
     "data": {
      "text/plain": [
       "<AxesSubplot:xlabel='Postal Code', ylabel='Density'>"
      ]
     },
     "execution_count": 13,
     "metadata": {},
     "output_type": "execute_result"
    },
    {
     "data": {
      "image/png": "[encoded data removed]",
      "text/plain": [
       "<Figure size 576x576 with 1 Axes>"
      ]
     },
     "metadata": {
      "needs_background": "light"
     },
     "output_type": "display_data"
    }
   ],
   "source": [
    "fig, ax = plt.subplots(figsize=(8,8))\n",
    "sns.distplot(data['Postal Code'])"
   ]
  },
  {
   "cell_type": "code",
   "execution_count": 14,
   "id": "db4cad48",
   "metadata": {},
   "outputs": [],
   "source": [
    "data['Postal Code'].fillna(data['Postal Code'].median(),inplace=True)"
   ]
  },
  {
   "cell_type": "code",
   "execution_count": 15,
   "id": "a003020d",
   "metadata": {},
   "outputs": [
    {
     "data": {
      "text/plain": [
       "(array([2.0000e+00, 1.3000e+01, 2.0000e+00, 1.0000e+00, 0.0000e+00,\n",
       "        0.0000e+00, 2.2000e+01, 2.4000e+01, 2.4960e+03, 8.1900e+03,\n",
       "        1.0637e+04, 8.5580e+03, 2.4674e+04, 2.9222e+04, 4.0875e+04]),\n",
       " array([1997.        , 1998.73333333, 2000.46666667, 2002.2       ,\n",
       "        2003.93333333, 2005.66666667, 2007.4       , 2009.13333333,\n",
       "        2010.86666667, 2012.6       , 2014.33333333, 2016.06666667,\n",
       "        2017.8       , 2019.53333333, 2021.26666667, 2023.        ]),\n",
       " <BarContainer object of 15 artists>)"
      ]
     },
     "execution_count": 15,
     "metadata": {},
     "output_type": "execute_result"
    },
    {
     "data": {
      "image/png": "[encoded data removed]",
      "text/plain": [
       "<Figure size 576x576 with 4 Axes>"
      ]
     },
     "metadata": {
      "needs_background": "light"
     },
     "output_type": "display_data"
    }
   ],
   "source": [
    "fig, ax = plt.subplots(nrows=2, ncols=2, figsize=(8,8))\n",
    "ax[0,0].hist(data['2020 Census Tract'], color='lightgreen', ec='black', bins=15)\n",
    "ax[0,1].hist(data['Postal Code'], color='lightgreen', ec='black', bins=15)\n",
    "ax[1,0].hist(data['Legislative District'], color='lightgreen', ec='black', bins=15)\n",
    "ax[1,1].hist(data['Model Year'], color='lightgreen', ec='black', bins=15)"
   ]
  },
  {
   "cell_type": "code",
   "execution_count": 16,
   "id": "9b698b24",
   "metadata": {},
   "outputs": [],
   "source": [
    "data['2020 Census Tract'].fillna(data['2020 Census Tract'].median(),inplace=True)"
   ]
  },
  {
   "cell_type": "code",
   "execution_count": 17,
   "id": "1bad8610",
   "metadata": {},
   "outputs": [
    {
     "data": {
      "text/plain": [
       "VIN (1-10)                                             0\n",
       "County                                                 2\n",
       "City                                                   2\n",
       "State                                                  0\n",
       "Postal Code                                            0\n",
       "Model Year                                             0\n",
       "Make                                                   0\n",
       "Model                                                181\n",
       "Electric Vehicle Type                                  0\n",
       "Clean Alternative Fuel Vehicle (CAFV) Eligibility      0\n",
       "Electric Range                                         0\n",
       "Base MSRP                                              0\n",
       "Legislative District                                   0\n",
       "DOL Vehicle ID                                         0\n",
       "Vehicle Location                                      29\n",
       "Electric Utility                                     473\n",
       "2020 Census Tract                                      0\n",
       "dtype: int64"
      ]
     },
     "execution_count": 17,
     "metadata": {},
     "output_type": "execute_result"
    }
   ],
   "source": [
    "data.isnull().sum()"
   ]
  },
  {
   "cell_type": "code",
   "execution_count": 18,
   "id": "2cbb12d5",
   "metadata": {},
   "outputs": [
    {
     "data": {
      "text/plain": [
       "Index(['VIN (1-10)', 'County', 'City', 'State', 'Postal Code', 'Model Year',\n",
       "       'Make', 'Model', 'Electric Vehicle Type',\n",
       "       'Clean Alternative Fuel Vehicle (CAFV) Eligibility', 'Electric Range',\n",
       "       'Base MSRP', 'Legislative District', 'DOL Vehicle ID',\n",
       "       'Vehicle Location', 'Electric Utility', '2020 Census Tract'],\n",
       "      dtype='object')"
      ]
     },
     "execution_count": 18,
     "metadata": {},
     "output_type": "execute_result"
    }
   ],
   "source": [
    "data.columns"
   ]
  },
  {
   "cell_type": "code",
   "execution_count": 19,
   "id": "294cd4b5",
   "metadata": {},
   "outputs": [],
   "source": [
    "data.replace({'Electric Vehicle Type':{'Battery Electric Vehicle (BEV)':0 , 'Plug-in Hybrid Electric Vehicle (PHEV)':1}}, inplace=True)"
   ]
  },
  {
   "cell_type": "code",
   "execution_count": 20,
   "id": "3f5b540e",
   "metadata": {},
   "outputs": [
    {
     "data": {
      "text/html": [
       "<div>\n",
       "<style scoped>\n",
       "    .dataframe tbody tr th:only-of-type {\n",
       "        vertical-align: middle;\n",
       "    }\n",
       "\n",
       "    .dataframe tbody tr th {\n",
       "        vertical-align: top;\n",
       "    }\n",
       "\n",
       "    .dataframe thead th {\n",
       "        text-align: right;\n",
       "    }\n",
       "</style>\n",
       "<table border=\"1\" class=\"dataframe\">\n",
       "  <thead>\n",
       "    <tr style=\"text-align: right;\">\n",
       "      <th></th>\n",
       "      <th>VIN (1-10)</th>\n",
       "      <th>County</th>\n",
       "      <th>City</th>\n",
       "      <th>State</th>\n",
       "      <th>Postal Code</th>\n",
       "      <th>Model Year</th>\n",
       "      <th>Make</th>\n",
       "      <th>Model</th>\n",
       "      <th>Electric Vehicle Type</th>\n",
       "      <th>Clean Alternative Fuel Vehicle (CAFV) Eligibility</th>\n",
       "      <th>Electric Range</th>\n",
       "      <th>Base MSRP</th>\n",
       "      <th>Legislative District</th>\n",
       "      <th>DOL Vehicle ID</th>\n",
       "      <th>Vehicle Location</th>\n",
       "      <th>Electric Utility</th>\n",
       "      <th>2020 Census Tract</th>\n",
       "    </tr>\n",
       "  </thead>\n",
       "  <tbody>\n",
       "    <tr>\n",
       "      <th>0</th>\n",
       "      <td>5YJ3E1EB4L</td>\n",
       "      <td>Yakima</td>\n",
       "      <td>Yakima</td>\n",
       "      <td>WA</td>\n",
       "      <td>98908.0</td>\n",
       "      <td>2020</td>\n",
       "      <td>TESLA</td>\n",
       "      <td>MODEL 3</td>\n",
       "      <td>0</td>\n",
       "      <td>Clean Alternative Fuel Vehicle Eligible</td>\n",
       "      <td>322</td>\n",
       "      <td>0</td>\n",
       "      <td>14.0</td>\n",
       "      <td>127175366</td>\n",
       "      <td>POINT (-120.56916 46.58514)</td>\n",
       "      <td>PACIFICORP</td>\n",
       "      <td>5.307700e+10</td>\n",
       "    </tr>\n",
       "    <tr>\n",
       "      <th>1</th>\n",
       "      <td>5YJ3E1EA7K</td>\n",
       "      <td>San Diego</td>\n",
       "      <td>San Diego</td>\n",
       "      <td>CA</td>\n",
       "      <td>92101.0</td>\n",
       "      <td>2019</td>\n",
       "      <td>TESLA</td>\n",
       "      <td>MODEL 3</td>\n",
       "      <td>0</td>\n",
       "      <td>Clean Alternative Fuel Vehicle Eligible</td>\n",
       "      <td>220</td>\n",
       "      <td>0</td>\n",
       "      <td>34.0</td>\n",
       "      <td>266614659</td>\n",
       "      <td>POINT (-117.16171 32.71568)</td>\n",
       "      <td>NaN</td>\n",
       "      <td>6.073005e+09</td>\n",
       "    </tr>\n",
       "    <tr>\n",
       "      <th>2</th>\n",
       "      <td>7JRBR0FL9M</td>\n",
       "      <td>Lane</td>\n",
       "      <td>Eugene</td>\n",
       "      <td>OR</td>\n",
       "      <td>97404.0</td>\n",
       "      <td>2021</td>\n",
       "      <td>VOLVO</td>\n",
       "      <td>S60</td>\n",
       "      <td>1</td>\n",
       "      <td>Not eligible due to low battery range</td>\n",
       "      <td>22</td>\n",
       "      <td>0</td>\n",
       "      <td>34.0</td>\n",
       "      <td>144502018</td>\n",
       "      <td>POINT (-123.12802 44.09573)</td>\n",
       "      <td>NaN</td>\n",
       "      <td>4.103900e+10</td>\n",
       "    </tr>\n",
       "    <tr>\n",
       "      <th>3</th>\n",
       "      <td>5YJXCBE21K</td>\n",
       "      <td>Yakima</td>\n",
       "      <td>Yakima</td>\n",
       "      <td>WA</td>\n",
       "      <td>98908.0</td>\n",
       "      <td>2019</td>\n",
       "      <td>TESLA</td>\n",
       "      <td>MODEL X</td>\n",
       "      <td>0</td>\n",
       "      <td>Clean Alternative Fuel Vehicle Eligible</td>\n",
       "      <td>289</td>\n",
       "      <td>0</td>\n",
       "      <td>14.0</td>\n",
       "      <td>477039944</td>\n",
       "      <td>POINT (-120.56916 46.58514)</td>\n",
       "      <td>PACIFICORP</td>\n",
       "      <td>5.307700e+10</td>\n",
       "    </tr>\n",
       "    <tr>\n",
       "      <th>4</th>\n",
       "      <td>5UXKT0C5XH</td>\n",
       "      <td>Snohomish</td>\n",
       "      <td>Bothell</td>\n",
       "      <td>WA</td>\n",
       "      <td>98021.0</td>\n",
       "      <td>2017</td>\n",
       "      <td>BMW</td>\n",
       "      <td>X5</td>\n",
       "      <td>1</td>\n",
       "      <td>Not eligible due to low battery range</td>\n",
       "      <td>14</td>\n",
       "      <td>0</td>\n",
       "      <td>1.0</td>\n",
       "      <td>106314946</td>\n",
       "      <td>POINT (-122.18384 47.8031)</td>\n",
       "      <td>PUGET SOUND ENERGY INC</td>\n",
       "      <td>5.306105e+10</td>\n",
       "    </tr>\n",
       "  </tbody>\n",
       "</table>\n",
       "</div>"
      ],
      "text/plain": [
       "   VIN (1-10)     County       City State  Postal Code  Model Year   Make  \\\n",
       "0  5YJ3E1EB4L     Yakima     Yakima    WA      98908.0        2020  TESLA   \n",
       "1  5YJ3E1EA7K  San Diego  San Diego    CA      92101.0        2019  TESLA   \n",
       "2  7JRBR0FL9M       Lane     Eugene    OR      97404.0        2021  VOLVO   \n",
       "3  5YJXCBE21K     Yakima     Yakima    WA      98908.0        2019  TESLA   \n",
       "4  5UXKT0C5XH  Snohomish    Bothell    WA      98021.0        2017    BMW   \n",
       "\n",
       "     Model  Electric Vehicle Type  \\\n",
       "0  MODEL 3                      0   \n",
       "1  MODEL 3                      0   \n",
       "2      S60                      1   \n",
       "3  MODEL X                      0   \n",
       "4       X5                      1   \n",
       "\n",
       "  Clean Alternative Fuel Vehicle (CAFV) Eligibility  Electric Range  \\\n",
       "0           Clean Alternative Fuel Vehicle Eligible             322   \n",
       "1           Clean Alternative Fuel Vehicle Eligible             220   \n",
       "2             Not eligible due to low battery range              22   \n",
       "3           Clean Alternative Fuel Vehicle Eligible             289   \n",
       "4             Not eligible due to low battery range              14   \n",
       "\n",
       "   Base MSRP  Legislative District  DOL Vehicle ID  \\\n",
       "0          0                  14.0       127175366   \n",
       "1          0                  34.0       266614659   \n",
       "2          0                  34.0       144502018   \n",
       "3          0                  14.0       477039944   \n",
       "4          0                   1.0       106314946   \n",
       "\n",
       "              Vehicle Location        Electric Utility  2020 Census Tract  \n",
       "0  POINT (-120.56916 46.58514)              PACIFICORP       5.307700e+10  \n",
       "1  POINT (-117.16171 32.71568)                     NaN       6.073005e+09  \n",
       "2  POINT (-123.12802 44.09573)                     NaN       4.103900e+10  \n",
       "3  POINT (-120.56916 46.58514)              PACIFICORP       5.307700e+10  \n",
       "4   POINT (-122.18384 47.8031)  PUGET SOUND ENERGY INC       5.306105e+10  "
      ]
     },
     "execution_count": 20,
     "metadata": {},
     "output_type": "execute_result"
    }
   ],
   "source": [
    "data.head()"
   ]
  },
  {
   "cell_type": "code",
   "execution_count": 21,
   "id": "2ee6799d",
   "metadata": {},
   "outputs": [],
   "source": [
    "data.replace({'Clean Alternative Fuel Vehicle (CAFV) Eligibility':{'Clean Alternative Fuel Vehicle Eligible':2 , 'Not eligible due to low battery range':3,'Eligibility unknown as battery range has not been researched':4}}, inplace=True)"
   ]
  },
  {
   "cell_type": "code",
   "execution_count": 22,
   "id": "3838897d",
   "metadata": {
    "scrolled": true
   },
   "outputs": [
    {
     "data": {
      "text/html": [
       "<div>\n",
       "<style scoped>\n",
       "    .dataframe tbody tr th:only-of-type {\n",
       "        vertical-align: middle;\n",
       "    }\n",
       "\n",
       "    .dataframe tbody tr th {\n",
       "        vertical-align: top;\n",
       "    }\n",
       "\n",
       "    .dataframe thead th {\n",
       "        text-align: right;\n",
       "    }\n",
       "</style>\n",
       "<table border=\"1\" class=\"dataframe\">\n",
       "  <thead>\n",
       "    <tr style=\"text-align: right;\">\n",
       "      <th></th>\n",
       "      <th>VIN (1-10)</th>\n",
       "      <th>County</th>\n",
       "      <th>City</th>\n",
       "      <th>State</th>\n",
       "      <th>Postal Code</th>\n",
       "      <th>Model Year</th>\n",
       "      <th>Make</th>\n",
       "      <th>Model</th>\n",
       "      <th>Electric Vehicle Type</th>\n",
       "      <th>Clean Alternative Fuel Vehicle (CAFV) Eligibility</th>\n",
       "      <th>Electric Range</th>\n",
       "      <th>Base MSRP</th>\n",
       "      <th>Legislative District</th>\n",
       "      <th>DOL Vehicle ID</th>\n",
       "      <th>Vehicle Location</th>\n",
       "      <th>Electric Utility</th>\n",
       "      <th>2020 Census Tract</th>\n",
       "    </tr>\n",
       "  </thead>\n",
       "  <tbody>\n",
       "    <tr>\n",
       "      <th>0</th>\n",
       "      <td>5YJ3E1EB4L</td>\n",
       "      <td>Yakima</td>\n",
       "      <td>Yakima</td>\n",
       "      <td>WA</td>\n",
       "      <td>98908.0</td>\n",
       "      <td>2020</td>\n",
       "      <td>TESLA</td>\n",
       "      <td>MODEL 3</td>\n",
       "      <td>0</td>\n",
       "      <td>2</td>\n",
       "      <td>322</td>\n",
       "      <td>0</td>\n",
       "      <td>14.0</td>\n",
       "      <td>127175366</td>\n",
       "      <td>POINT (-120.56916 46.58514)</td>\n",
       "      <td>PACIFICORP</td>\n",
       "      <td>5.307700e+10</td>\n",
       "    </tr>\n",
       "    <tr>\n",
       "      <th>1</th>\n",
       "      <td>5YJ3E1EA7K</td>\n",
       "      <td>San Diego</td>\n",
       "      <td>San Diego</td>\n",
       "      <td>CA</td>\n",
       "      <td>92101.0</td>\n",
       "      <td>2019</td>\n",
       "      <td>TESLA</td>\n",
       "      <td>MODEL 3</td>\n",
       "      <td>0</td>\n",
       "      <td>2</td>\n",
       "      <td>220</td>\n",
       "      <td>0</td>\n",
       "      <td>34.0</td>\n",
       "      <td>266614659</td>\n",
       "      <td>POINT (-117.16171 32.71568)</td>\n",
       "      <td>NaN</td>\n",
       "      <td>6.073005e+09</td>\n",
       "    </tr>\n",
       "    <tr>\n",
       "      <th>2</th>\n",
       "      <td>7JRBR0FL9M</td>\n",
       "      <td>Lane</td>\n",
       "      <td>Eugene</td>\n",
       "      <td>OR</td>\n",
       "      <td>97404.0</td>\n",
       "      <td>2021</td>\n",
       "      <td>VOLVO</td>\n",
       "      <td>S60</td>\n",
       "      <td>1</td>\n",
       "      <td>3</td>\n",
       "      <td>22</td>\n",
       "      <td>0</td>\n",
       "      <td>34.0</td>\n",
       "      <td>144502018</td>\n",
       "      <td>POINT (-123.12802 44.09573)</td>\n",
       "      <td>NaN</td>\n",
       "      <td>4.103900e+10</td>\n",
       "    </tr>\n",
       "    <tr>\n",
       "      <th>3</th>\n",
       "      <td>5YJXCBE21K</td>\n",
       "      <td>Yakima</td>\n",
       "      <td>Yakima</td>\n",
       "      <td>WA</td>\n",
       "      <td>98908.0</td>\n",
       "      <td>2019</td>\n",
       "      <td>TESLA</td>\n",
       "      <td>MODEL X</td>\n",
       "      <td>0</td>\n",
       "      <td>2</td>\n",
       "      <td>289</td>\n",
       "      <td>0</td>\n",
       "      <td>14.0</td>\n",
       "      <td>477039944</td>\n",
       "      <td>POINT (-120.56916 46.58514)</td>\n",
       "      <td>PACIFICORP</td>\n",
       "      <td>5.307700e+10</td>\n",
       "    </tr>\n",
       "    <tr>\n",
       "      <th>4</th>\n",
       "      <td>5UXKT0C5XH</td>\n",
       "      <td>Snohomish</td>\n",
       "      <td>Bothell</td>\n",
       "      <td>WA</td>\n",
       "      <td>98021.0</td>\n",
       "      <td>2017</td>\n",
       "      <td>BMW</td>\n",
       "      <td>X5</td>\n",
       "      <td>1</td>\n",
       "      <td>3</td>\n",
       "      <td>14</td>\n",
       "      <td>0</td>\n",
       "      <td>1.0</td>\n",
       "      <td>106314946</td>\n",
       "      <td>POINT (-122.18384 47.8031)</td>\n",
       "      <td>PUGET SOUND ENERGY INC</td>\n",
       "      <td>5.306105e+10</td>\n",
       "    </tr>\n",
       "  </tbody>\n",
       "</table>\n",
       "</div>"
      ],
      "text/plain": [
       "   VIN (1-10)     County       City State  Postal Code  Model Year   Make  \\\n",
       "0  5YJ3E1EB4L     Yakima     Yakima    WA      98908.0        2020  TESLA   \n",
       "1  5YJ3E1EA7K  San Diego  San Diego    CA      92101.0        2019  TESLA   \n",
       "2  7JRBR0FL9M       Lane     Eugene    OR      97404.0        2021  VOLVO   \n",
       "3  5YJXCBE21K     Yakima     Yakima    WA      98908.0        2019  TESLA   \n",
       "4  5UXKT0C5XH  Snohomish    Bothell    WA      98021.0        2017    BMW   \n",
       "\n",
       "     Model  Electric Vehicle Type  \\\n",
       "0  MODEL 3                      0   \n",
       "1  MODEL 3                      0   \n",
       "2      S60                      1   \n",
       "3  MODEL X                      0   \n",
       "4       X5                      1   \n",
       "\n",
       "   Clean Alternative Fuel Vehicle (CAFV) Eligibility  Electric Range  \\\n",
       "0                                                  2             322   \n",
       "1                                                  2             220   \n",
       "2                                                  3              22   \n",
       "3                                                  2             289   \n",
       "4                                                  3              14   \n",
       "\n",
       "   Base MSRP  Legislative District  DOL Vehicle ID  \\\n",
       "0          0                  14.0       127175366   \n",
       "1          0                  34.0       266614659   \n",
       "2          0                  34.0       144502018   \n",
       "3          0                  14.0       477039944   \n",
       "4          0                   1.0       106314946   \n",
       "\n",
       "              Vehicle Location        Electric Utility  2020 Census Tract  \n",
       "0  POINT (-120.56916 46.58514)              PACIFICORP       5.307700e+10  \n",
       "1  POINT (-117.16171 32.71568)                     NaN       6.073005e+09  \n",
       "2  POINT (-123.12802 44.09573)                     NaN       4.103900e+10  \n",
       "3  POINT (-120.56916 46.58514)              PACIFICORP       5.307700e+10  \n",
       "4   POINT (-122.18384 47.8031)  PUGET SOUND ENERGY INC       5.306105e+10  "
      ]
     },
     "execution_count": 22,
     "metadata": {},
     "output_type": "execute_result"
    }
   ],
   "source": [
    "data.head()"
   ]
  },
  {
   "cell_type": "code",
   "execution_count": 23,
   "id": "07913043",
   "metadata": {
    "scrolled": true
   },
   "outputs": [
    {
     "data": {
      "text/html": [
       "<div>\n",
       "<style scoped>\n",
       "    .dataframe tbody tr th:only-of-type {\n",
       "        vertical-align: middle;\n",
       "    }\n",
       "\n",
       "    .dataframe tbody tr th {\n",
       "        vertical-align: top;\n",
       "    }\n",
       "\n",
       "    .dataframe thead th {\n",
       "        text-align: right;\n",
       "    }\n",
       "</style>\n",
       "<table border=\"1\" class=\"dataframe\">\n",
       "  <thead>\n",
       "    <tr style=\"text-align: right;\">\n",
       "      <th></th>\n",
       "      <th>VIN (1-10)</th>\n",
       "      <th>County</th>\n",
       "      <th>City</th>\n",
       "      <th>State</th>\n",
       "      <th>Postal Code</th>\n",
       "      <th>Model Year</th>\n",
       "      <th>Make</th>\n",
       "      <th>Model</th>\n",
       "      <th>Electric Vehicle Type</th>\n",
       "      <th>Clean Alternative Fuel Vehicle (CAFV) Eligibility</th>\n",
       "      <th>Electric Range</th>\n",
       "      <th>Base MSRP</th>\n",
       "      <th>Legislative District</th>\n",
       "      <th>DOL Vehicle ID</th>\n",
       "      <th>Vehicle Location</th>\n",
       "      <th>Electric Utility</th>\n",
       "      <th>2020 Census Tract</th>\n",
       "    </tr>\n",
       "  </thead>\n",
       "  <tbody>\n",
       "    <tr>\n",
       "      <th>0</th>\n",
       "      <td>5YJ3E1EB4L</td>\n",
       "      <td>Yakima</td>\n",
       "      <td>Yakima</td>\n",
       "      <td>WA</td>\n",
       "      <td>98908.0</td>\n",
       "      <td>2020</td>\n",
       "      <td>TESLA</td>\n",
       "      <td>MODEL 3</td>\n",
       "      <td>0</td>\n",
       "      <td>2</td>\n",
       "      <td>322</td>\n",
       "      <td>0</td>\n",
       "      <td>14.0</td>\n",
       "      <td>127175366</td>\n",
       "      <td>POINT (-120.56916 46.58514)</td>\n",
       "      <td>PACIFICORP</td>\n",
       "      <td>5.307700e+10</td>\n",
       "    </tr>\n",
       "    <tr>\n",
       "      <th>1</th>\n",
       "      <td>5YJ3E1EA7K</td>\n",
       "      <td>San Diego</td>\n",
       "      <td>San Diego</td>\n",
       "      <td>CA</td>\n",
       "      <td>92101.0</td>\n",
       "      <td>2019</td>\n",
       "      <td>TESLA</td>\n",
       "      <td>MODEL 3</td>\n",
       "      <td>0</td>\n",
       "      <td>2</td>\n",
       "      <td>220</td>\n",
       "      <td>0</td>\n",
       "      <td>34.0</td>\n",
       "      <td>266614659</td>\n",
       "      <td>POINT (-117.16171 32.71568)</td>\n",
       "      <td>NaN</td>\n",
       "      <td>6.073005e+09</td>\n",
       "    </tr>\n",
       "    <tr>\n",
       "      <th>2</th>\n",
       "      <td>7JRBR0FL9M</td>\n",
       "      <td>Lane</td>\n",
       "      <td>Eugene</td>\n",
       "      <td>OR</td>\n",
       "      <td>97404.0</td>\n",
       "      <td>2021</td>\n",
       "      <td>VOLVO</td>\n",
       "      <td>S60</td>\n",
       "      <td>1</td>\n",
       "      <td>3</td>\n",
       "      <td>22</td>\n",
       "      <td>0</td>\n",
       "      <td>34.0</td>\n",
       "      <td>144502018</td>\n",
       "      <td>POINT (-123.12802 44.09573)</td>\n",
       "      <td>NaN</td>\n",
       "      <td>4.103900e+10</td>\n",
       "    </tr>\n",
       "    <tr>\n",
       "      <th>3</th>\n",
       "      <td>5YJXCBE21K</td>\n",
       "      <td>Yakima</td>\n",
       "      <td>Yakima</td>\n",
       "      <td>WA</td>\n",
       "      <td>98908.0</td>\n",
       "      <td>2019</td>\n",
       "      <td>TESLA</td>\n",
       "      <td>MODEL X</td>\n",
       "      <td>0</td>\n",
       "      <td>2</td>\n",
       "      <td>289</td>\n",
       "      <td>0</td>\n",
       "      <td>14.0</td>\n",
       "      <td>477039944</td>\n",
       "      <td>POINT (-120.56916 46.58514)</td>\n",
       "      <td>PACIFICORP</td>\n",
       "      <td>5.307700e+10</td>\n",
       "    </tr>\n",
       "    <tr>\n",
       "      <th>4</th>\n",
       "      <td>5UXKT0C5XH</td>\n",
       "      <td>Snohomish</td>\n",
       "      <td>Bothell</td>\n",
       "      <td>WA</td>\n",
       "      <td>98021.0</td>\n",
       "      <td>2017</td>\n",
       "      <td>BMW</td>\n",
       "      <td>X5</td>\n",
       "      <td>1</td>\n",
       "      <td>3</td>\n",
       "      <td>14</td>\n",
       "      <td>0</td>\n",
       "      <td>1.0</td>\n",
       "      <td>106314946</td>\n",
       "      <td>POINT (-122.18384 47.8031)</td>\n",
       "      <td>PUGET SOUND ENERGY INC</td>\n",
       "      <td>5.306105e+10</td>\n",
       "    </tr>\n",
       "  </tbody>\n",
       "</table>\n",
       "</div>"
      ],
      "text/plain": [
       "   VIN (1-10)     County       City State  Postal Code  Model Year   Make  \\\n",
       "0  5YJ3E1EB4L     Yakima     Yakima    WA      98908.0        2020  TESLA   \n",
       "1  5YJ3E1EA7K  San Diego  San Diego    CA      92101.0        2019  TESLA   \n",
       "2  7JRBR0FL9M       Lane     Eugene    OR      97404.0        2021  VOLVO   \n",
       "3  5YJXCBE21K     Yakima     Yakima    WA      98908.0        2019  TESLA   \n",
       "4  5UXKT0C5XH  Snohomish    Bothell    WA      98021.0        2017    BMW   \n",
       "\n",
       "     Model  Electric Vehicle Type  \\\n",
       "0  MODEL 3                      0   \n",
       "1  MODEL 3                      0   \n",
       "2      S60                      1   \n",
       "3  MODEL X                      0   \n",
       "4       X5                      1   \n",
       "\n",
       "   Clean Alternative Fuel Vehicle (CAFV) Eligibility  Electric Range  \\\n",
       "0                                                  2             322   \n",
       "1                                                  2             220   \n",
       "2                                                  3              22   \n",
       "3                                                  2             289   \n",
       "4                                                  3              14   \n",
       "\n",
       "   Base MSRP  Legislative District  DOL Vehicle ID  \\\n",
       "0          0                  14.0       127175366   \n",
       "1          0                  34.0       266614659   \n",
       "2          0                  34.0       144502018   \n",
       "3          0                  14.0       477039944   \n",
       "4          0                   1.0       106314946   \n",
       "\n",
       "              Vehicle Location        Electric Utility  2020 Census Tract  \n",
       "0  POINT (-120.56916 46.58514)              PACIFICORP       5.307700e+10  \n",
       "1  POINT (-117.16171 32.71568)                     NaN       6.073005e+09  \n",
       "2  POINT (-123.12802 44.09573)                     NaN       4.103900e+10  \n",
       "3  POINT (-120.56916 46.58514)              PACIFICORP       5.307700e+10  \n",
       "4   POINT (-122.18384 47.8031)  PUGET SOUND ENERGY INC       5.306105e+10  "
      ]
     },
     "execution_count": 23,
     "metadata": {},
     "output_type": "execute_result"
    }
   ],
   "source": [
    "data.head()"
   ]
  },
  {
   "cell_type": "code",
   "execution_count": 25,
   "id": "b020872b",
   "metadata": {},
   "outputs": [],
   "source": [
    "csv_data = data.to_csv('After cleaning.csv', index = True)"
   ]
  },
  {
   "cell_type": "code",
   "execution_count": 440,
   "id": "08313874",
   "metadata": {},
   "outputs": [],
   "source": [
    "#features and targets\n",
    "X = data.drop(columns = ['VIN (1-10)','County','City','State','Vehicle Location','Make','Model','Electric Range','Electric Utility'],axis=1)\n",
    "Y = data['Electric Range']"
   ]
  },
  {
   "cell_type": "code",
   "execution_count": null,
   "id": "9ca239f6",
   "metadata": {},
   "outputs": [],
   "source": []
  },
  {
   "cell_type": "code",
   "execution_count": 441,
   "id": "d37abe56",
   "metadata": {},
   "outputs": [
    {
     "data": {
      "text/html": [
       "<div>\n",
       "<style scoped>\n",
       "    .dataframe tbody tr th:only-of-type {\n",
       "        vertical-align: middle;\n",
       "    }\n",
       "\n",
       "    .dataframe tbody tr th {\n",
       "        vertical-align: top;\n",
       "    }\n",
       "\n",
       "    .dataframe thead th {\n",
       "        text-align: right;\n",
       "    }\n",
       "</style>\n",
       "<table border=\"1\" class=\"dataframe\">\n",
       "  <thead>\n",
       "    <tr style=\"text-align: right;\">\n",
       "      <th></th>\n",
       "      <th>VIN (1-10)</th>\n",
       "      <th>County</th>\n",
       "      <th>City</th>\n",
       "      <th>State</th>\n",
       "      <th>Postal Code</th>\n",
       "      <th>Model Year</th>\n",
       "      <th>Make</th>\n",
       "      <th>Model</th>\n",
       "      <th>Electric Vehicle Type</th>\n",
       "      <th>Clean Alternative Fuel Vehicle (CAFV) Eligibility</th>\n",
       "      <th>Electric Range</th>\n",
       "      <th>Base MSRP</th>\n",
       "      <th>Legislative District</th>\n",
       "      <th>DOL Vehicle ID</th>\n",
       "      <th>Vehicle Location</th>\n",
       "      <th>Electric Utility</th>\n",
       "      <th>2020 Census Tract</th>\n",
       "    </tr>\n",
       "  </thead>\n",
       "  <tbody>\n",
       "    <tr>\n",
       "      <th>0</th>\n",
       "      <td>5YJ3E1EB4L</td>\n",
       "      <td>Yakima</td>\n",
       "      <td>Yakima</td>\n",
       "      <td>WA</td>\n",
       "      <td>98908.0</td>\n",
       "      <td>2020</td>\n",
       "      <td>TESLA</td>\n",
       "      <td>MODEL 3</td>\n",
       "      <td>0</td>\n",
       "      <td>2</td>\n",
       "      <td>322</td>\n",
       "      <td>0</td>\n",
       "      <td>14.0</td>\n",
       "      <td>127175366</td>\n",
       "      <td>POINT (-120.56916 46.58514)</td>\n",
       "      <td>PACIFICORP</td>\n",
       "      <td>5.307700e+10</td>\n",
       "    </tr>\n",
       "    <tr>\n",
       "      <th>1</th>\n",
       "      <td>5YJ3E1EA7K</td>\n",
       "      <td>San Diego</td>\n",
       "      <td>San Diego</td>\n",
       "      <td>CA</td>\n",
       "      <td>92101.0</td>\n",
       "      <td>2019</td>\n",
       "      <td>TESLA</td>\n",
       "      <td>MODEL 3</td>\n",
       "      <td>0</td>\n",
       "      <td>2</td>\n",
       "      <td>220</td>\n",
       "      <td>0</td>\n",
       "      <td>34.0</td>\n",
       "      <td>266614659</td>\n",
       "      <td>POINT (-117.16171 32.71568)</td>\n",
       "      <td>NaN</td>\n",
       "      <td>6.073005e+09</td>\n",
       "    </tr>\n",
       "    <tr>\n",
       "      <th>2</th>\n",
       "      <td>7JRBR0FL9M</td>\n",
       "      <td>Lane</td>\n",
       "      <td>Eugene</td>\n",
       "      <td>OR</td>\n",
       "      <td>97404.0</td>\n",
       "      <td>2021</td>\n",
       "      <td>VOLVO</td>\n",
       "      <td>S60</td>\n",
       "      <td>1</td>\n",
       "      <td>3</td>\n",
       "      <td>22</td>\n",
       "      <td>0</td>\n",
       "      <td>34.0</td>\n",
       "      <td>144502018</td>\n",
       "      <td>POINT (-123.12802 44.09573)</td>\n",
       "      <td>NaN</td>\n",
       "      <td>4.103900e+10</td>\n",
       "    </tr>\n",
       "    <tr>\n",
       "      <th>3</th>\n",
       "      <td>5YJXCBE21K</td>\n",
       "      <td>Yakima</td>\n",
       "      <td>Yakima</td>\n",
       "      <td>WA</td>\n",
       "      <td>98908.0</td>\n",
       "      <td>2019</td>\n",
       "      <td>TESLA</td>\n",
       "      <td>MODEL X</td>\n",
       "      <td>0</td>\n",
       "      <td>2</td>\n",
       "      <td>289</td>\n",
       "      <td>0</td>\n",
       "      <td>14.0</td>\n",
       "      <td>477039944</td>\n",
       "      <td>POINT (-120.56916 46.58514)</td>\n",
       "      <td>PACIFICORP</td>\n",
       "      <td>5.307700e+10</td>\n",
       "    </tr>\n",
       "    <tr>\n",
       "      <th>4</th>\n",
       "      <td>5UXKT0C5XH</td>\n",
       "      <td>Snohomish</td>\n",
       "      <td>Bothell</td>\n",
       "      <td>WA</td>\n",
       "      <td>98021.0</td>\n",
       "      <td>2017</td>\n",
       "      <td>BMW</td>\n",
       "      <td>X5</td>\n",
       "      <td>1</td>\n",
       "      <td>3</td>\n",
       "      <td>14</td>\n",
       "      <td>0</td>\n",
       "      <td>1.0</td>\n",
       "      <td>106314946</td>\n",
       "      <td>POINT (-122.18384 47.8031)</td>\n",
       "      <td>PUGET SOUND ENERGY INC</td>\n",
       "      <td>5.306105e+10</td>\n",
       "    </tr>\n",
       "  </tbody>\n",
       "</table>\n",
       "</div>"
      ],
      "text/plain": [
       "   VIN (1-10)     County       City State  Postal Code  Model Year   Make  \\\n",
       "0  5YJ3E1EB4L     Yakima     Yakima    WA      98908.0        2020  TESLA   \n",
       "1  5YJ3E1EA7K  San Diego  San Diego    CA      92101.0        2019  TESLA   \n",
       "2  7JRBR0FL9M       Lane     Eugene    OR      97404.0        2021  VOLVO   \n",
       "3  5YJXCBE21K     Yakima     Yakima    WA      98908.0        2019  TESLA   \n",
       "4  5UXKT0C5XH  Snohomish    Bothell    WA      98021.0        2017    BMW   \n",
       "\n",
       "     Model  Electric Vehicle Type  \\\n",
       "0  MODEL 3                      0   \n",
       "1  MODEL 3                      0   \n",
       "2      S60                      1   \n",
       "3  MODEL X                      0   \n",
       "4       X5                      1   \n",
       "\n",
       "   Clean Alternative Fuel Vehicle (CAFV) Eligibility  Electric Range  \\\n",
       "0                                                  2             322   \n",
       "1                                                  2             220   \n",
       "2                                                  3              22   \n",
       "3                                                  2             289   \n",
       "4                                                  3              14   \n",
       "\n",
       "   Base MSRP  Legislative District  DOL Vehicle ID  \\\n",
       "0          0                  14.0       127175366   \n",
       "1          0                  34.0       266614659   \n",
       "2          0                  34.0       144502018   \n",
       "3          0                  14.0       477039944   \n",
       "4          0                   1.0       106314946   \n",
       "\n",
       "              Vehicle Location        Electric Utility  2020 Census Tract  \n",
       "0  POINT (-120.56916 46.58514)              PACIFICORP       5.307700e+10  \n",
       "1  POINT (-117.16171 32.71568)                     NaN       6.073005e+09  \n",
       "2  POINT (-123.12802 44.09573)                     NaN       4.103900e+10  \n",
       "3  POINT (-120.56916 46.58514)              PACIFICORP       5.307700e+10  \n",
       "4   POINT (-122.18384 47.8031)  PUGET SOUND ENERGY INC       5.306105e+10  "
      ]
     },
     "execution_count": 441,
     "metadata": {},
     "output_type": "execute_result"
    }
   ],
   "source": [
    "data.head()"
   ]
  },
  {
   "cell_type": "code",
   "execution_count": 442,
   "id": "32386c0f",
   "metadata": {},
   "outputs": [],
   "source": [
    "X_train, X_test, Y_train, Y_test = train_test_split(X, Y, test_size=0.2, random_state = 2) "
   ]
  },
  {
   "cell_type": "code",
   "execution_count": 443,
   "id": "89194ff6",
   "metadata": {},
   "outputs": [],
   "source": [
    "regressor = RandomForestRegressor(n_estimators=100)"
   ]
  },
  {
   "cell_type": "raw",
   "id": "1f83c6e8",
   "metadata": {},
   "source": []
  },
  {
   "cell_type": "code",
   "execution_count": 444,
   "id": "706e3c47",
   "metadata": {},
   "outputs": [
    {
     "data": {
      "text/plain": [
       "RandomForestRegressor()"
      ]
     },
     "execution_count": 444,
     "metadata": {},
     "output_type": "execute_result"
    }
   ],
   "source": [
    "regressor.fit(X_train,Y_train)"
   ]
  },
  {
   "cell_type": "code",
   "execution_count": 445,
   "id": "8d62b640",
   "metadata": {},
   "outputs": [],
   "source": [
    "test_data_prediction = regressor.predict(X_test)"
   ]
  },
  {
   "cell_type": "code",
   "execution_count": 446,
   "id": "fe63908b",
   "metadata": {},
   "outputs": [
    {
     "name": "stdout",
     "output_type": "stream",
     "text": [
      "[  0.   209.83  38.   ...   0.   221.89  43.77]\n"
     ]
    }
   ],
   "source": [
    "print(test_data_prediction)"
   ]
  },
  {
   "cell_type": "code",
   "execution_count": 447,
   "id": "82f80ccf",
   "metadata": {},
   "outputs": [
    {
     "name": "stdout",
     "output_type": "stream",
     "text": [
      "0.9322726311360114\n"
     ]
    }
   ],
   "source": [
    "error_score = metrics.r2_score(Y_test, test_data_prediction)\n",
    "print(error_score)"
   ]
  },
  {
   "cell_type": "code",
   "execution_count": 448,
   "id": "c67f272f",
   "metadata": {},
   "outputs": [
    {
     "name": "stderr",
     "output_type": "stream",
     "text": [
      "No artists with labels found to put in legend.  Note that artists whose label start with an underscore are ignored when legend() is called with no argument.\n"
     ]
    },
    {
     "data": {
      "image/png": "[encoded data removed]",
      "text/plain": [
       "<Figure size 432x288 with 1 Axes>"
      ]
     },
     "metadata": {
      "needs_background": "light"
     },
     "output_type": "display_data"
    }
   ],
   "source": [
    "plt.scatter(Y_test, test_data_prediction)\n",
    "plt.title('Actual electric range vs predicted electric range')\n",
    "plt.xlabel('actual')\n",
    "plt.ylabel('prediction')\n",
    "plt.legend()\n",
    "plt.show()"
   ]
  },
  {
   "cell_type": "code",
   "execution_count": 449,
   "id": "5a5f453c",
   "metadata": {},
   "outputs": [
    {
     "name": "stdout",
     "output_type": "stream",
     "text": [
      "        Postal Code  Model Year  Electric Vehicle Type  \\\n",
      "0           98908.0        2020                      0   \n",
      "1           92101.0        2019                      0   \n",
      "2           97404.0        2021                      1   \n",
      "3           98908.0        2019                      0   \n",
      "4           98021.0        2017                      1   \n",
      "...             ...         ...                    ...   \n",
      "124711      98272.0        2022                      0   \n",
      "124712      98406.0        2020                      1   \n",
      "124713      98226.0        2023                      0   \n",
      "124714      98444.0        2018                      0   \n",
      "124715      99320.0        2015                      1   \n",
      "\n",
      "        Clean Alternative Fuel Vehicle (CAFV) Eligibility  Base MSRP  \\\n",
      "0                                                       2          0   \n",
      "1                                                       2          0   \n",
      "2                                                       3          0   \n",
      "3                                                       2          0   \n",
      "4                                                       3          0   \n",
      "...                                                   ...        ...   \n",
      "124711                                                  4          0   \n",
      "124712                                                  3          0   \n",
      "124713                                                  4          0   \n",
      "124714                                                  2          0   \n",
      "124715                                                  2          0   \n",
      "\n",
      "        Legislative District  DOL Vehicle ID  2020 Census Tract  \n",
      "0                       14.0       127175366       5.307700e+10  \n",
      "1                       34.0       266614659       6.073005e+09  \n",
      "2                       34.0       144502018       4.103900e+10  \n",
      "3                       14.0       477039944       5.307700e+10  \n",
      "4                        1.0       106314946       5.306105e+10  \n",
      "...                      ...             ...                ...  \n",
      "124711                  39.0       192999061       5.306105e+10  \n",
      "124712                  27.0       113346250       5.305306e+10  \n",
      "124713                  42.0       232751305       5.307300e+10  \n",
      "124714                  29.0       102589007       5.305307e+10  \n",
      "124715                  16.0       476974718       5.300501e+10  \n",
      "\n",
      "[124716 rows x 8 columns]\n"
     ]
    }
   ],
   "source": [
    "print(X)"
   ]
  },
  {
   "cell_type": "code",
   "execution_count": 450,
   "id": "32f9f6bb",
   "metadata": {},
   "outputs": [],
   "source": [
    "input_data = (99320,2015,1,2,0,16,476974718,53005011900)\n"
   ]
  },
  {
   "cell_type": "code",
   "execution_count": 451,
   "id": "02cc21b3",
   "metadata": {},
   "outputs": [],
   "source": [
    "input_data_as_array = np.asarray(input_data)"
   ]
  },
  {
   "cell_type": "code",
   "execution_count": 452,
   "id": "68787afc",
   "metadata": {},
   "outputs": [],
   "source": [
    "input_data_reshaped = input_data_as_array.reshape(1,-1)"
   ]
  },
  {
   "cell_type": "code",
   "execution_count": 453,
   "id": "0db486a3",
   "metadata": {},
   "outputs": [
    {
     "name": "stdout",
     "output_type": "stream",
     "text": [
      "[42.42]\n"
     ]
    },
    {
     "name": "stderr",
     "output_type": "stream",
     "text": [
      "C:\\ProgramData\\Anaconda3\\lib\\site-packages\\sklearn\\base.py:450: UserWarning: X does not have valid feature names, but RandomForestRegressor was fitted with feature names\n",
      "  warnings.warn(\n"
     ]
    }
   ],
   "source": [
    "prediction = regressor.predict(input_data_reshaped)\n",
    "print(prediction)"
   ]
  },
  {
   "cell_type": "raw",
   "id": "a8fe0208",
   "metadata": {},
   "source": [
    "answer is 38"
   ]
  },
  {
   "cell_type": "code",
   "execution_count": 454,
   "id": "3e94eca2",
   "metadata": {},
   "outputs": [],
   "source": [
    "\n",
    "#model training\n",
    "lasso_regressor = Lasso()\n"
   ]
  },
  {
   "cell_type": "code",
   "execution_count": 455,
   "id": "e636b3ca",
   "metadata": {},
   "outputs": [
    {
     "data": {
      "text/plain": [
       "Lasso()"
      ]
     },
     "execution_count": 455,
     "metadata": {},
     "output_type": "execute_result"
    }
   ],
   "source": [
    "lasso_regressor.fit(X_train,Y_train)"
   ]
  },
  {
   "cell_type": "code",
   "execution_count": 456,
   "id": "4239c5dc",
   "metadata": {},
   "outputs": [],
   "source": [
    "training_data_prediction = lasso_regressor.predict(X_train)"
   ]
  },
  {
   "cell_type": "code",
   "execution_count": 457,
   "id": "89534755",
   "metadata": {},
   "outputs": [],
   "source": [
    "r2_train_2 = metrics.r2_score(Y_train,training_data_prediction)"
   ]
  },
  {
   "cell_type": "code",
   "execution_count": 458,
   "id": "fb1ea583",
   "metadata": {},
   "outputs": [
    {
     "name": "stdout",
     "output_type": "stream",
     "text": [
      "0.7984588528654217\n"
     ]
    }
   ],
   "source": [
    "print(r2_train_2)\n"
   ]
  },
  {
   "cell_type": "code",
   "execution_count": 459,
   "id": "565eccee",
   "metadata": {},
   "outputs": [
    {
     "data": {
      "text/plain": [
       "Lasso()"
      ]
     },
     "execution_count": 459,
     "metadata": {},
     "output_type": "execute_result"
    }
   ],
   "source": [
    "lasso_regressor.fit(X_test,Y_test)"
   ]
  },
  {
   "cell_type": "code",
   "execution_count": 460,
   "id": "68659c9b",
   "metadata": {},
   "outputs": [],
   "source": [
    "test_data_prediction = lasso_regressor.predict(X_test)"
   ]
  },
  {
   "cell_type": "code",
   "execution_count": 461,
   "id": "be5188bb",
   "metadata": {},
   "outputs": [],
   "source": [
    "r2_test_2 = metrics.r2_score(Y_test,test_data_prediction)"
   ]
  },
  {
   "cell_type": "code",
   "execution_count": 462,
   "id": "d3d697b7",
   "metadata": {},
   "outputs": [
    {
     "name": "stdout",
     "output_type": "stream",
     "text": [
      "0.8032373788945151\n"
     ]
    }
   ],
   "source": [
    "print(r2_test_2)"
   ]
  },
  {
   "cell_type": "code",
   "execution_count": 468,
   "id": "995cb156",
   "metadata": {},
   "outputs": [],
   "source": [
    "input_data = (99320,2015,1,2,0,16,476974718,53005011900)\n"
   ]
  },
  {
   "cell_type": "code",
   "execution_count": 469,
   "id": "b3d33d63",
   "metadata": {},
   "outputs": [],
   "source": [
    "input_data_as_array = np.asarray(input_data)"
   ]
  },
  {
   "cell_type": "code",
   "execution_count": 470,
   "id": "9b8df061",
   "metadata": {},
   "outputs": [],
   "source": [
    "input_data_reshaped = input_data_as_array.reshape(1,-1)"
   ]
  },
  {
   "cell_type": "code",
   "execution_count": 471,
   "id": "3c5e34a8",
   "metadata": {},
   "outputs": [
    {
     "name": "stdout",
     "output_type": "stream",
     "text": [
      "[42.42]\n"
     ]
    },
    {
     "name": "stderr",
     "output_type": "stream",
     "text": [
      "C:\\ProgramData\\Anaconda3\\lib\\site-packages\\sklearn\\base.py:450: UserWarning: X does not have valid feature names, but RandomForestRegressor was fitted with feature names\n",
      "  warnings.warn(\n"
     ]
    }
   ],
   "source": [
    "prediction = regressor.predict(input_data_reshaped)\n",
    "print(prediction)"
   ]
  },
  {
   "cell_type": "code",
   "execution_count": 472,
   "id": "fa5f2a01",
   "metadata": {},
   "outputs": [
    {
     "name": "stderr",
     "output_type": "stream",
     "text": [
      "No artists with labels found to put in legend.  Note that artists whose label start with an underscore are ignored when legend() is called with no argument.\n"
     ]
    },
    {
     "data": {
      "image/png": "[encoded data removed]",
      "text/plain": [
       "<Figure size 432x288 with 1 Axes>"
      ]
     },
     "metadata": {
      "needs_background": "light"
     },
     "output_type": "display_data"
    }
   ],
   "source": [
    "plt.scatter(Y_test, test_data_prediction)\n",
    "plt.title('Actual electric range vs predicted electric range')\n",
    "plt.xlabel('actual')\n",
    "plt.ylabel('prediction')\n",
    "plt.legend()\n",
    "plt.show()"
   ]
  },
  {
   "cell_type": "code",
   "execution_count": null,
   "id": "e04b5105",
   "metadata": {},
   "outputs": [],
   "source": []
  }
 ],
 "metadata": {
  "kernelspec": {
   "display_name": "Python 3 (ipykernel)",
   "language": "python",
   "name": "python3"
  },
  "language_info": {
   "codemirror_mode": {
    "name": "ipython",
    "version": 3
   },
   "file_extension": ".py",
   "mimetype": "text/x-python",
   "name": "python",
   "nbconvert_exporter": "python",
   "pygments_lexer": "ipython3",
   "version": "3.9.12"
  }
 },
 "nbformat": 4,
 "nbformat_minor": 5
}
